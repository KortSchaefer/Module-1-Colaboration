{
  "metadata": {
    "kernelspec": {
      "name": "xpython",
      "display_name": "Python 3.13 (XPython)",
      "language": "python"
    },
    "language_info": {
      "file_extension": ".py",
      "mimetype": "text/x-python",
      "name": "python",
      "version": "3.13.1"
    }
  },
  "nbformat_minor": 5,
  "nbformat": 4,
  "cells": [
    {
      "id": "cfd773d5-9d2f-44d5-a3f5-fb6e998854c3",
      "cell_type": "code",
      "source": "things = [\"mozzarella\", \"cinderella\", \"salmonella\"]\nthings",
      "metadata": {
        "trusted": true
      },
      "outputs": [
        {
          "execution_count": 1,
          "output_type": "execute_result",
          "data": {
            "text/plain": "['mozzarella', 'cinderella', 'salmonella']"
          },
          "metadata": {}
        }
      ],
      "execution_count": 1
    },
    {
      "id": "86fe68fe-a21b-4be6-9211-85a359c90af8",
      "cell_type": "code",
      "source": "things[1] = things[1].capitalize()\nthings",
      "metadata": {
        "trusted": true
      },
      "outputs": [
        {
          "execution_count": 2,
          "output_type": "execute_result",
          "data": {
            "text/plain": "['mozzarella', 'Cinderella', 'salmonella']"
          },
          "metadata": {}
        }
      ],
      "execution_count": 2
    },
    {
      "id": "600b87c1-edb0-43d8-8f35-86e9f77c0fbd",
      "cell_type": "code",
      "source": "things[0] = things[0].upper()\nthings",
      "metadata": {
        "trusted": true
      },
      "outputs": [
        {
          "execution_count": 3,
          "output_type": "execute_result",
          "data": {
            "text/plain": "['MOZZARELLA', 'Cinderella', 'salmonella']"
          },
          "metadata": {}
        }
      ],
      "execution_count": 3
    },
    {
      "id": "97272b5d-7b73-447a-839b-57ad30dbd281",
      "cell_type": "code",
      "source": "del things[2]\nthings",
      "metadata": {
        "trusted": true
      },
      "outputs": [
        {
          "execution_count": 4,
          "output_type": "execute_result",
          "data": {
            "text/plain": "['MOZZARELLA', 'Cinderella']"
          },
          "metadata": {}
        }
      ],
      "execution_count": 4
    },
    {
      "id": "9b569bdc-cd3d-4f37-b3d1-d1f55b9bbdd4",
      "cell_type": "code",
      "source": "def good():\n    return ['Harry', 'Ron', 'Hermione']\n\ngood()",
      "metadata": {
        "trusted": true
      },
      "outputs": [
        {
          "execution_count": 5,
          "output_type": "execute_result",
          "data": {
            "text/plain": "['Harry', 'Ron', 'Hermione']"
          },
          "metadata": {}
        }
      ],
      "execution_count": 5
    },
    {
      "id": "7ddcc3e9-c2ae-40c2-a7ea-c192526d88e7",
      "cell_type": "code",
      "source": "def get_odds():\n    for number in range(10):\n        if number % 2 == 1:\n            yield number\ncount = 0\nfor value in get_odds():\n    count += 1\n    if count == 3:\n        print(value)\n        break\n",
      "metadata": {
        "trusted": true
      },
      "outputs": [
        {
          "name": "stdout",
          "output_type": "stream",
          "text": "5\n"
        }
      ],
      "execution_count": 8
    },
    {
      "id": "efb744db-f1a4-4283-b0a4-f65042e9da24",
      "cell_type": "code",
      "source": "",
      "metadata": {
        "trusted": true
      },
      "outputs": [],
      "execution_count": null
    }
  ]
}