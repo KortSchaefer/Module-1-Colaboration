{
  "metadata": {
    "kernelspec": {
      "name": "xpython",
      "display_name": "Python 3.13 (XPython)",
      "language": "python"
    },
    "language_info": {
      "file_extension": ".py",
      "mimetype": "text/x-python",
      "name": "python",
      "version": "3.13.1"
    }
  },
  "nbformat_minor": 5,
  "nbformat": 4,
  "cells": [
    {
      "id": "f784ad78-0c1f-4e51-b3a0-7b1579c045e6",
      "cell_type": "code",
      "source": "# Assign values\nsecret = 7\nguess = 4\n\n# Conditional tests\nif guess < secret:\n    print(\"too low\")\nelif guess > secret:\n    print(\"too high\")\nelse:\n    print(\"just right\")\n",
      "metadata": {
        "trusted": true
      },
      "outputs": [
        {
          "name": "stdout",
          "output_type": "stream",
          "text": "too low\n"
        }
      ],
      "execution_count": 8
    },
    {
      "id": "a9a6a0d8-bc88-4298-83db-df8abb5861f1",
      "cell_type": "code",
      "source": "# Assign True or False\nsmall = True\ngreen = True\n\n# Conditional logic\nif small and not green:\n    print(\"cherry\")\nelif small and green:\n    print(\"pea\")\nelif not small and green:\n    print(\"watermelon\")\nelse:\n    print(\"pumpkin\")\n",
      "metadata": {
        "trusted": true
      },
      "outputs": [
        {
          "name": "stdout",
          "output_type": "stream",
          "text": "pea\n"
        }
      ],
      "execution_count": 10
    },
    {
      "id": "db38634d-be40-4fc9-8064-01ce32641aab",
      "cell_type": "code",
      "source": "list = [3, 2, 1, 0]\nfor x in range(len(list)):\n    print (list[int(x-1)])",
      "metadata": {
        "trusted": true
      },
      "outputs": [
        {
          "name": "stdout",
          "output_type": "stream",
          "text": "0\n3\n2\n1\n"
        }
      ],
      "execution_count": 16
    },
    {
      "id": "5d46d28d-2217-4a9c-a03c-14c42b7971fb",
      "cell_type": "code",
      "source": "guess_me = 7\nnumber = 1\n\nwhile True:\n    if number < guess_me:\n        print(\"too low\")\n    elif number == guess_me:\n        print(\"found it!\")\n        break\n    else:\n        print(\"oops\")\n        break\n    number += 1\n",
      "metadata": {
        "trusted": true
      },
      "outputs": [
        {
          "name": "stdout",
          "output_type": "stream",
          "text": "too low\ntoo low\ntoo low\ntoo low\ntoo low\ntoo low\nfound it!\n"
        }
      ],
      "execution_count": 17
    },
    {
      "id": "7a072143-73b9-4c63-ae14-0a6101bb56c8",
      "cell_type": "code",
      "source": "guess_me = 5\n\nfor number in range(10):\n    if number < guess_me:\n        print(\"too low\")\n    elif number == guess_me:\n        print(\"found it!\")\n        break\n    else:\n        print(\"oops\")\n        break\n",
      "metadata": {
        "trusted": true
      },
      "outputs": [
        {
          "name": "stdout",
          "output_type": "stream",
          "text": "too low\ntoo low\ntoo low\ntoo low\ntoo low\nfound it!\n"
        }
      ],
      "execution_count": 18
    },
    {
      "id": "6ad937d8-11ae-4ead-af10-8fb6459c4fde",
      "cell_type": "code",
      "source": "",
      "metadata": {
        "trusted": true
      },
      "outputs": [],
      "execution_count": null
    }
  ]
}