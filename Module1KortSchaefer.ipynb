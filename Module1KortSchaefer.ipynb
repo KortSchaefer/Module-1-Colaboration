{
 "cells": [
  {
   "cell_type": "code",
   "execution_count": 1,
   "id": "89d45dfb-56a6-49ae-8d67-35b91044c403",
   "metadata": {},
   "outputs": [
    {
     "name": "stdout",
     "output_type": "stream",
     "text": [
      "hello\n"
     ]
    }
   ],
   "source": [
    "print(\"hello\")"
   ]
  },
  {
   "cell_type": "code",
   "execution_count": 3,
   "id": "c5453c52-afa9-4fa0-99d4-23d835f288be",
   "metadata": {},
   "outputs": [
    {
     "name": "stdout",
     "output_type": "stream",
     "text": [
      "minutes = 60\n",
      "secconds = 3600\n"
     ]
    }
   ],
   "source": [
    "numberOfHours = 1\n",
    "print(\"minutes = \"+str(60*numberOfHours))\n",
    "print(\"secconds = \"+str(60*60*numberOfHours))"
   ]
  },
  {
   "cell_type": "code",
   "execution_count": 6,
   "id": "c01366de-25a8-4434-95b7-014d46223b9b",
   "metadata": {},
   "outputs": [
    {
     "name": "stdout",
     "output_type": "stream",
     "text": [
      "secconds in a day: 86400\n"
     ]
    }
   ],
   "source": [
    "secconds_per_hour = 3600\n",
    "secconds_per_day = secconds_per_hour * 24\n",
    "print(\"secconds in a day: \"+str(secconds_per_day)) "
   ]
  },
  {
   "cell_type": "code",
   "execution_count": 9,
   "id": "19b045ae-6c09-4bb8-a2c2-4916c7eb4184",
   "metadata": {},
   "outputs": [
    {
     "data": {
      "text/plain": [
       "24.0"
      ]
     },
     "execution_count": 9,
     "metadata": {},
     "output_type": "execute_result"
    }
   ],
   "source": [
    "secconds_per_day / secconds_per_hour"
   ]
  },
  {
   "cell_type": "code",
   "execution_count": 10,
   "id": "2d559e40-7f48-4712-bd6d-50a15770ab36",
   "metadata": {},
   "outputs": [
    {
     "data": {
      "text/plain": [
       "24"
      ]
     },
     "execution_count": 10,
     "metadata": {},
     "output_type": "execute_result"
    }
   ],
   "source": [
    "secconds_per_day // secconds_per_hour"
   ]
  },
  {
   "cell_type": "code",
   "execution_count": null,
   "id": "20d0135f-317a-4e29-a04c-4f923f94abf5",
   "metadata": {},
   "outputs": [],
   "source": []
  }
 ],
 "metadata": {
  "kernelspec": {
   "display_name": "anaconda-2024.02-py310",
   "language": "python",
   "name": "conda-env-anaconda-2024.02-py310-py"
  },
  "language_info": {
   "codemirror_mode": {
    "name": "ipython",
    "version": 3
   },
   "file_extension": ".py",
   "mimetype": "text/x-python",
   "name": "python",
   "nbconvert_exporter": "python",
   "pygments_lexer": "ipython3",
   "version": "3.10.14"
  }
 },
 "nbformat": 4,
 "nbformat_minor": 5
}
