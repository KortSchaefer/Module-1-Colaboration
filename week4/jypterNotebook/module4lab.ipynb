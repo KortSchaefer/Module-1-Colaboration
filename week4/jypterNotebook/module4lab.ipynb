{
  "metadata": {
    "kernelspec": {
      "name": "xpython",
      "display_name": "Python 3.13 (XPython)",
      "language": "python"
    },
    "language_info": {
      "file_extension": ".py",
      "mimetype": "text/x-python",
      "name": "python",
      "version": "3.13.1"
    }
  },
  "nbformat_minor": 5,
  "nbformat": 4,
  "cells": [
    {
      "id": "6a520e39-abcb-4f8d-8f26-8d19d55cd3a5",
      "cell_type": "code",
      "source": "%%writefile zoo.py\n\ndef hours():\n    print(\"Open 9-5 daily\")\n\n",
      "metadata": {
        "trusted": true
      },
      "outputs": [
        {
          "name": "stdout",
          "output_type": "stream",
          "text": "Writing zoo.py\n"
        }
      ],
      "execution_count": 2
    },
    {
      "id": "d24cfa68-d181-4805-bb1d-52fa3b8d7780",
      "cell_type": "code",
      "source": "import zoo\nzoo.hours()\n",
      "metadata": {
        "trusted": true
      },
      "outputs": [
        {
          "ename": "<class 'ModuleNotFoundError'>",
          "evalue": "No module named 'zoo'",
          "traceback": [
            "\u001b[31m---------------------------------------------------------------------------\u001b[39m",
            "\u001b[31mModuleNotFoundError\u001b[39m                       Traceback (most recent call last)",
            "\u001b[36mCell\u001b[39m\u001b[36m \u001b[39m\u001b[32mIn[5]\u001b[39m\u001b[32m, line 1\u001b[39m\n\u001b[32m----> \u001b[39m\u001b[32m1\u001b[39m \u001b[38;5;28;01mimport\u001b[39;00m\u001b[38;5;250m \u001b[39m\u001b[34;01mzoo\u001b[39;00m\n\u001b[32m      2\u001b[39m zoo.hours()\n",
            "\u001b[31mModuleNotFoundError\u001b[39m: No module named 'zoo'"
          ],
          "output_type": "error"
        }
      ],
      "execution_count": 5
    },
    {
      "id": "9433a247-7d57-429b-8e2c-e97fefd3407a",
      "cell_type": "code",
      "source": "import importlib\nimportlib.reload(zoo)\nzoo.hours()\n",
      "metadata": {
        "trusted": true
      },
      "outputs": [
        {
          "ename": "<class 'NameError'>",
          "evalue": "name 'zoo' is not defined",
          "traceback": [
            "\u001b[31m---------------------------------------------------------------------------\u001b[39m",
            "\u001b[31mNameError\u001b[39m                                 Traceback (most recent call last)",
            "\u001b[36mCell\u001b[39m\u001b[36m \u001b[39m\u001b[32mIn[6]\u001b[39m\u001b[32m, line 2\u001b[39m\n\u001b[32m      1\u001b[39m \u001b[38;5;28;01mimport\u001b[39;00m\u001b[38;5;250m \u001b[39m\u001b[34;01mimportlib\u001b[39;00m\n\u001b[32m----> \u001b[39m\u001b[32m2\u001b[39m importlib.reload(\u001b[43mzoo\u001b[49m)\n\u001b[32m      3\u001b[39m zoo.hours()\n",
            "\u001b[31mNameError\u001b[39m: name 'zoo' is not defined"
          ],
          "output_type": "error"
        }
      ],
      "execution_count": 6
    },
    {
      "id": "0721823b-0d23-47c2-bfcf-d549b84d9ad5",
      "cell_type": "code",
      "source": "import zoo as menagerie\n\nmenagerie.hours()",
      "metadata": {
        "trusted": true
      },
      "outputs": [
        {
          "ename": "<class 'ModuleNotFoundError'>",
          "evalue": "No module named 'zoo'",
          "traceback": [
            "\u001b[31m---------------------------------------------------------------------------\u001b[39m",
            "\u001b[31mModuleNotFoundError\u001b[39m                       Traceback (most recent call last)",
            "\u001b[36mCell\u001b[39m\u001b[36m \u001b[39m\u001b[32mIn[7]\u001b[39m\u001b[32m, line 1\u001b[39m\n\u001b[32m----> \u001b[39m\u001b[32m1\u001b[39m \u001b[38;5;28;01mimport\u001b[39;00m\u001b[38;5;250m \u001b[39m\u001b[34;01mzoo\u001b[39;00m\u001b[38;5;250m \u001b[39m\u001b[38;5;28;01mas\u001b[39;00m\u001b[38;5;250m \u001b[39m\u001b[34;01mmenagerie\u001b[39;00m\n\u001b[32m      3\u001b[39m menagerie.hours()\n",
            "\u001b[31mModuleNotFoundError\u001b[39m: No module named 'zoo'"
          ],
          "output_type": "error"
        }
      ],
      "execution_count": 7
    },
    {
      "id": "10ef52d4-a7ab-49a3-b173-fe2647d45077",
      "cell_type": "code",
      "source": "",
      "metadata": {
        "trusted": true
      },
      "outputs": [],
      "execution_count": null
    }
  ]
}