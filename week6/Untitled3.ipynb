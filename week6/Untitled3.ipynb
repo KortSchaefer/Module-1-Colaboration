{
  "metadata": {
    "kernelspec": {
      "name": "xpython",
      "display_name": "Python 3.13 (XPython)",
      "language": "python"
    },
    "language_info": {
      "file_extension": ".py",
      "mimetype": "text/x-python",
      "name": "python",
      "version": "3.13.1"
    }
  },
  "nbformat_minor": 5,
  "nbformat": 4,
  "cells": [
    {
      "id": "0129a97b-57b8-42b2-9a67-a69b3d98d2fb",
      "cell_type": "code",
      "source": "from datetime import date\nfrom pathlib import Path\n\ntoday = date.today()\nPath(\"today.txt\").write_text(today.isoformat())\n",
      "metadata": {
        "trusted": true
      },
      "outputs": [
        {
          "execution_count": 1,
          "output_type": "execute_result",
          "data": {
            "text/plain": "10"
          },
          "metadata": {}
        }
      ],
      "execution_count": 1
    },
    {
      "id": "92e74fde-a545-4ae5-9c54-34f9d2c7599d",
      "cell_type": "code",
      "source": "from pathlib import Path\n\ntoday_string = Path(\"today.txt\").read_text().strip()\ntoday_string\n",
      "metadata": {
        "trusted": true
      },
      "outputs": [
        {
          "execution_count": 2,
          "output_type": "execute_result",
          "data": {
            "text/plain": "'2025-10-07'"
          },
          "metadata": {}
        }
      ],
      "execution_count": 2
    },
    {
      "id": "ee570ba1-edf8-4367-a86f-024af25e4aab",
      "cell_type": "code",
      "source": "from datetime import datetime\n\nparsed_date = datetime.strptime(today_string, \"%Y-%m-%d\").date()\nparsed_date\n",
      "metadata": {
        "trusted": true
      },
      "outputs": [
        {
          "execution_count": 3,
          "output_type": "execute_result",
          "data": {
            "text/plain": "datetime.date(2025, 10, 7)"
          },
          "metadata": {}
        }
      ],
      "execution_count": 3
    },
    {
      "id": "34986a72-4dbd-4d97-afe2-9fc5ab317a98",
      "cell_type": "code",
      "source": "def dryer():\n    import redis\n    import os\n    import time\n    conn = redis.Redis()\n    pid = os.getpid()\n    timeout = 20\n    print('Dryer process %s is starting' % pid)\n    while True:\n        msg = conn.blpop('dishes', timeout)\n        if not msg:\n            break\n        val = msg[1].decode('utf-8')\n        if val == 'quit':\n            break\n        print('%s: dried %s' % (pid, val))\n        time.sleep(0.1)\n    print('Dryer process %s is done' % pid)\n\nimport multiprocessing\nDRYERS=3\nfor num in range(DRYERS):\n    p = multiprocessing.Process(target=dryer)\n    p.start()",
      "metadata": {
        "trusted": true
      },
      "outputs": [
        {
          "ename": "<class 'ModuleNotFoundError'>",
          "evalue": "No module named '_multiprocessing'",
          "traceback": [
            "\u001b[31m---------------------------------------------------------------------------\u001b[39m",
            "\u001b[31mModuleNotFoundError\u001b[39m                       Traceback (most recent call last)",
            "\u001b[36mCell\u001b[39m\u001b[36m \u001b[39m\u001b[32mIn[8]\u001b[39m\u001b[32m, line 24\u001b[39m\n\u001b[32m     22\u001b[39m \u001b[38;5;28;01mfor\u001b[39;00m num \u001b[38;5;129;01min\u001b[39;00m \u001b[38;5;28mrange\u001b[39m(DRYERS):\n\u001b[32m     23\u001b[39m     p = multiprocessing.Process(target=dryer)\n\u001b[32m---> \u001b[39m\u001b[32m24\u001b[39m     \u001b[43mp\u001b[49m\u001b[43m.\u001b[49m\u001b[43mstart\u001b[49m\u001b[43m(\u001b[49m\u001b[43m)\u001b[49m\n",
            "\u001b[36mFile \u001b[39m\u001b[32m/lib/python3.13/multiprocessing/process.py:121\u001b[39m, in \u001b[36mBaseProcess.start\u001b[39m\u001b[34m(self)\u001b[39m\n\u001b[32m    118\u001b[39m \u001b[38;5;28;01massert\u001b[39;00m \u001b[38;5;129;01mnot\u001b[39;00m _current_process._config.get(\u001b[33m'\u001b[39m\u001b[33mdaemon\u001b[39m\u001b[33m'\u001b[39m), \\\n\u001b[32m    119\u001b[39m        \u001b[33m'\u001b[39m\u001b[33mdaemonic processes are not allowed to have children\u001b[39m\u001b[33m'\u001b[39m\n\u001b[32m    120\u001b[39m _cleanup()\n\u001b[32m--> \u001b[39m\u001b[32m121\u001b[39m \u001b[38;5;28mself\u001b[39m._popen = \u001b[38;5;28;43mself\u001b[39;49m\u001b[43m.\u001b[49m\u001b[43m_Popen\u001b[49m\u001b[43m(\u001b[49m\u001b[38;5;28;43mself\u001b[39;49m\u001b[43m)\u001b[49m\n\u001b[32m    122\u001b[39m \u001b[38;5;28mself\u001b[39m._sentinel = \u001b[38;5;28mself\u001b[39m._popen.sentinel\n\u001b[32m    123\u001b[39m \u001b[38;5;66;03m# Avoid a refcycle if the target function holds an indirect\u001b[39;00m\n\u001b[32m    124\u001b[39m \u001b[38;5;66;03m# reference to the process object (see bpo-30775)\u001b[39;00m\n",
            "\u001b[36mFile \u001b[39m\u001b[32m/lib/python3.13/multiprocessing/context.py:224\u001b[39m, in \u001b[36mProcess._Popen\u001b[39m\u001b[34m(process_obj)\u001b[39m\n\u001b[32m    222\u001b[39m \u001b[38;5;129m@staticmethod\u001b[39m\n\u001b[32m    223\u001b[39m \u001b[38;5;28;01mdef\u001b[39;00m\u001b[38;5;250m \u001b[39m\u001b[34m_Popen\u001b[39m(process_obj):\n\u001b[32m--> \u001b[39m\u001b[32m224\u001b[39m     \u001b[38;5;28;01mreturn\u001b[39;00m \u001b[43m_default_context\u001b[49m\u001b[43m.\u001b[49m\u001b[43mget_context\u001b[49m\u001b[43m(\u001b[49m\u001b[43m)\u001b[49m\u001b[43m.\u001b[49m\u001b[43mProcess\u001b[49m\u001b[43m.\u001b[49m\u001b[43m_Popen\u001b[49m\u001b[43m(\u001b[49m\u001b[43mprocess_obj\u001b[49m\u001b[43m)\u001b[49m\n",
            "\u001b[36mFile \u001b[39m\u001b[32m/lib/python3.13/multiprocessing/context.py:289\u001b[39m, in \u001b[36mSpawnProcess._Popen\u001b[39m\u001b[34m(process_obj)\u001b[39m\n\u001b[32m    286\u001b[39m \u001b[38;5;129m@staticmethod\u001b[39m\n\u001b[32m    287\u001b[39m \u001b[38;5;28;01mdef\u001b[39;00m\u001b[38;5;250m \u001b[39m\u001b[34m_Popen\u001b[39m(process_obj):\n\u001b[32m    288\u001b[39m     \u001b[38;5;28;01mfrom\u001b[39;00m\u001b[38;5;250m \u001b[39m\u001b[34;01m.\u001b[39;00m\u001b[34;01mpopen_spawn_posix\u001b[39;00m\u001b[38;5;250m \u001b[39m\u001b[38;5;28;01mimport\u001b[39;00m Popen\n\u001b[32m--> \u001b[39m\u001b[32m289\u001b[39m     \u001b[38;5;28;01mreturn\u001b[39;00m \u001b[43mPopen\u001b[49m\u001b[43m(\u001b[49m\u001b[43mprocess_obj\u001b[49m\u001b[43m)\u001b[49m\n",
            "\u001b[36mFile \u001b[39m\u001b[32m/lib/python3.13/multiprocessing/popen_spawn_posix.py:32\u001b[39m, in \u001b[36mPopen.__init__\u001b[39m\u001b[34m(self, process_obj)\u001b[39m\n\u001b[32m     30\u001b[39m \u001b[38;5;28;01mdef\u001b[39;00m\u001b[38;5;250m \u001b[39m\u001b[34m__init__\u001b[39m(\u001b[38;5;28mself\u001b[39m, process_obj):\n\u001b[32m     31\u001b[39m     \u001b[38;5;28mself\u001b[39m._fds = []\n\u001b[32m---> \u001b[39m\u001b[32m32\u001b[39m     \u001b[38;5;28;43msuper\u001b[39;49m\u001b[43m(\u001b[49m\u001b[43m)\u001b[49m\u001b[43m.\u001b[49m\u001b[34;43m__init__\u001b[39;49m\u001b[43m(\u001b[49m\u001b[43mprocess_obj\u001b[49m\u001b[43m)\u001b[49m\n",
            "\u001b[36mFile \u001b[39m\u001b[32m/lib/python3.13/multiprocessing/popen_fork.py:20\u001b[39m, in \u001b[36mPopen.__init__\u001b[39m\u001b[34m(self, process_obj)\u001b[39m\n\u001b[32m     18\u001b[39m \u001b[38;5;28mself\u001b[39m.returncode = \u001b[38;5;28;01mNone\u001b[39;00m\n\u001b[32m     19\u001b[39m \u001b[38;5;28mself\u001b[39m.finalizer = \u001b[38;5;28;01mNone\u001b[39;00m\n\u001b[32m---> \u001b[39m\u001b[32m20\u001b[39m \u001b[38;5;28;43mself\u001b[39;49m\u001b[43m.\u001b[49m\u001b[43m_launch\u001b[49m\u001b[43m(\u001b[49m\u001b[43mprocess_obj\u001b[49m\u001b[43m)\u001b[49m\n",
            "\u001b[36mFile \u001b[39m\u001b[32m/lib/python3.13/multiprocessing/popen_spawn_posix.py:39\u001b[39m, in \u001b[36mPopen._launch\u001b[39m\u001b[34m(self, process_obj)\u001b[39m\n\u001b[32m     38\u001b[39m \u001b[38;5;28;01mdef\u001b[39;00m\u001b[38;5;250m \u001b[39m\u001b[34m_launch\u001b[39m(\u001b[38;5;28mself\u001b[39m, process_obj):\n\u001b[32m---> \u001b[39m\u001b[32m39\u001b[39m     \u001b[38;5;28;01mfrom\u001b[39;00m\u001b[38;5;250m \u001b[39m\u001b[34;01m.\u001b[39;00m\u001b[38;5;250m \u001b[39m\u001b[38;5;28;01mimport\u001b[39;00m resource_tracker\n\u001b[32m     40\u001b[39m     tracker_fd = resource_tracker.getfd()\n\u001b[32m     41\u001b[39m     \u001b[38;5;28mself\u001b[39m._fds.append(tracker_fd)\n",
            "\u001b[36mFile \u001b[39m\u001b[32m/lib/python3.13/multiprocessing/resource_tracker.py:41\u001b[39m\n\u001b[32m     35\u001b[39m _CLEANUP_FUNCS = {\n\u001b[32m     36\u001b[39m     \u001b[33m'\u001b[39m\u001b[33mnoop\u001b[39m\u001b[33m'\u001b[39m: cleanup_noop,\n\u001b[32m     37\u001b[39m     \u001b[33m'\u001b[39m\u001b[33mdummy\u001b[39m\u001b[33m'\u001b[39m: \u001b[38;5;28;01mlambda\u001b[39;00m name: \u001b[38;5;28;01mNone\u001b[39;00m,  \u001b[38;5;66;03m# Dummy resource used in tests\u001b[39;00m\n\u001b[32m     38\u001b[39m }\n\u001b[32m     40\u001b[39m \u001b[38;5;28;01mif\u001b[39;00m os.name == \u001b[33m'\u001b[39m\u001b[33mposix\u001b[39m\u001b[33m'\u001b[39m:\n\u001b[32m---> \u001b[39m\u001b[32m41\u001b[39m     \u001b[38;5;28;01mimport\u001b[39;00m\u001b[38;5;250m \u001b[39m\u001b[34;01m_multiprocessing\u001b[39;00m\n\u001b[32m     42\u001b[39m     \u001b[38;5;28;01mimport\u001b[39;00m\u001b[38;5;250m \u001b[39m\u001b[34;01m_posixshmem\u001b[39;00m\n\u001b[32m     44\u001b[39m     \u001b[38;5;66;03m# Use sem_unlink() to clean up named semaphores.\u001b[39;00m\n\u001b[32m     45\u001b[39m     \u001b[38;5;66;03m#\u001b[39;00m\n\u001b[32m     46\u001b[39m     \u001b[38;5;66;03m# sem_unlink() may be missing if the Python build process detected the\u001b[39;00m\n\u001b[32m     47\u001b[39m     \u001b[38;5;66;03m# absence of POSIX named semaphores. In that case, no named semaphores were\u001b[39;00m\n\u001b[32m     48\u001b[39m     \u001b[38;5;66;03m# ever opened, so no cleanup would be necessary.\u001b[39;00m\n",
            "\u001b[31mModuleNotFoundError\u001b[39m: No module named '_multiprocessing'"
          ],
          "output_type": "error"
        }
      ],
      "execution_count": 8
    },
    {
      "id": "dc4406e3-432e-423a-a4cf-6b0224ba0450",
      "cell_type": "code",
      "source": "",
      "metadata": {
        "trusted": true
      },
      "outputs": [],
      "execution_count": null
    }
  ]
}